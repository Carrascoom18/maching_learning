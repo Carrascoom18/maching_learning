{
 "cells": [
  {
   "cell_type": "code",
   "execution_count": 2,
   "metadata": {},
   "outputs": [],
   "source": [
    "# Importaciones necesarias\n",
    "import pandas as pd\n",
    "from sklearn.model_selection import train_test_split, GridSearchCV\n",
    "from sklearn.preprocessing import StandardScaler\n",
    "from sklearn.linear_model import LogisticRegression\n",
    "from sklearn.metrics import accuracy_score, precision_score, recall_score, f1_score, roc_auc_score\n",
    "from imblearn.over_sampling import RandomOverSampler, SMOTE\n",
    "from imblearn.under_sampling import RandomUnderSampler, NearMiss\n",
    "import numpy as np\n",
    "from sklearn.preprocessing import LabelEncoder\n",
    "import seaborn as sns\n",
    "import matplotlib.pyplot as plt"
   ]
  },
  {
   "cell_type": "code",
   "execution_count": 9,
   "metadata": {},
   "outputs": [
    {
     "data": {
      "text/plain": [
       "['id',\n",
       " 'name',\n",
       " 'assetType',\n",
       " 'averageRating',\n",
       " 'category',\n",
       " 'createdAt',\n",
       " 'description',\n",
       " 'displayType',\n",
       " 'downloadCount',\n",
       " 'hideFromCatalog',\n",
       " 'hideFromDataJson',\n",
       " 'locked',\n",
       " 'modifyingViewUid',\n",
       " 'newBackend',\n",
       " 'numberOfComments',\n",
       " 'oid',\n",
       " 'provenance',\n",
       " 'publicationAppendEnabled',\n",
       " 'publicationDate',\n",
       " 'publicationGroup',\n",
       " 'publicationStage',\n",
       " 'rowsUpdatedAt',\n",
       " 'rowsUpdatedBy',\n",
       " 'tableId',\n",
       " 'totalTimesRated',\n",
       " 'viewCount',\n",
       " 'viewLastModified',\n",
       " 'viewType',\n",
       " 'approvals',\n",
       " 'clientContext',\n",
       " 'grants',\n",
       " 'metadata',\n",
       " 'owner',\n",
       " 'rights',\n",
       " 'tableAuthor',\n",
       " 'tags',\n",
       " 'flags',\n",
       " 'queryString',\n",
       " 'rowClass',\n",
       " 'rowIdentifierColumnId',\n",
       " 'ratings',\n",
       " 'indexUpdatedAt',\n",
       " 'locale',\n",
       " 'iconUrl',\n",
       " 'previewImageId',\n",
       " 'blobFilename',\n",
       " 'blobFileSize',\n",
       " 'blobId',\n",
       " 'blobMimeType',\n",
       " 'resourceName']"
      ]
     },
     "execution_count": 9,
     "metadata": {},
     "output_type": "execute_result"
    }
   ],
   "source": [
    "df =pd.read_json(\"crime.json\")\n",
    "columnas = df.columns.tolist()\n",
    "columnas\n",
    "\n",
    "\n"
   ]
  },
  {
   "cell_type": "code",
   "execution_count": null,
   "metadata": {},
   "outputs": [
    {
     "name": "stderr",
     "output_type": "stream",
     "text": [
      ") missing from font(s) DejaVu Sans.g\\.venv\\Lib\\site-packages\\seaborn\\utils.py:61: UserWarning: Glyph 13 (\n",
      "  fig.canvas.draw()\n"
     ]
    },
    {
     "ename": "MemoryError",
     "evalue": "",
     "output_type": "error",
     "traceback": [
      "\u001b[31m---------------------------------------------------------------------------\u001b[39m",
      "\u001b[31mMemoryError\u001b[39m                               Traceback (most recent call last)",
      "\u001b[36mCell\u001b[39m\u001b[36m \u001b[39m\u001b[32mIn[6]\u001b[39m\u001b[32m, line 2\u001b[39m\n\u001b[32m      1\u001b[39m plt.figure(figsize=(\u001b[32m8\u001b[39m,\u001b[32m6\u001b[39m))\n\u001b[32m----> \u001b[39m\u001b[32m2\u001b[39m \u001b[43msns\u001b[49m\u001b[43m.\u001b[49m\u001b[43mheatmap\u001b[49m\u001b[43m(\u001b[49m\u001b[43mcorrelacion\u001b[49m\u001b[43m,\u001b[49m\u001b[43m \u001b[49m\u001b[43mannot\u001b[49m\u001b[43m=\u001b[49m\u001b[38;5;28;43;01mTrue\u001b[39;49;00m\u001b[43m,\u001b[49m\u001b[43m \u001b[49m\u001b[43mcmap\u001b[49m\u001b[43m=\u001b[49m\u001b[33;43m\"\u001b[39;49m\u001b[33;43mcoolwarm\u001b[39;49m\u001b[33;43m\"\u001b[39;49m\u001b[43m,\u001b[49m\u001b[43m \u001b[49m\u001b[43mfmt\u001b[49m\u001b[43m=\u001b[49m\u001b[33;43m\"\u001b[39;49m\u001b[33;43m.2f\u001b[39;49m\u001b[33;43m\"\u001b[39;49m\u001b[43m,\u001b[49m\u001b[43m \u001b[49m\u001b[43mlinewidths\u001b[49m\u001b[43m=\u001b[49m\u001b[32;43m0.5\u001b[39;49m\u001b[43m)\u001b[49m\n\u001b[32m      3\u001b[39m plt.title(\u001b[33m\"\u001b[39m\u001b[33mMatriz de Correlación\u001b[39m\u001b[33m\"\u001b[39m)\n\u001b[32m      4\u001b[39m plt.show()\n",
      "\u001b[36mFile \u001b[39m\u001b[32md:\\maching_learning\\maching_learning\\.venv\\Lib\\site-packages\\seaborn\\matrix.py:459\u001b[39m, in \u001b[36mheatmap\u001b[39m\u001b[34m(data, vmin, vmax, cmap, center, robust, annot, fmt, annot_kws, linewidths, linecolor, cbar, cbar_kws, cbar_ax, square, xticklabels, yticklabels, mask, ax, **kwargs)\u001b[39m\n\u001b[32m    457\u001b[39m \u001b[38;5;28;01mif\u001b[39;00m square:\n\u001b[32m    458\u001b[39m     ax.set_aspect(\u001b[33m\"\u001b[39m\u001b[33mequal\u001b[39m\u001b[33m\"\u001b[39m)\n\u001b[32m--> \u001b[39m\u001b[32m459\u001b[39m \u001b[43mplotter\u001b[49m\u001b[43m.\u001b[49m\u001b[43mplot\u001b[49m\u001b[43m(\u001b[49m\u001b[43max\u001b[49m\u001b[43m,\u001b[49m\u001b[43m \u001b[49m\u001b[43mcbar_ax\u001b[49m\u001b[43m,\u001b[49m\u001b[43m \u001b[49m\u001b[43mkwargs\u001b[49m\u001b[43m)\u001b[49m\n\u001b[32m    460\u001b[39m \u001b[38;5;28;01mreturn\u001b[39;00m ax\n",
      "\u001b[36mFile \u001b[39m\u001b[32md:\\maching_learning\\maching_learning\\.venv\\Lib\\site-packages\\seaborn\\matrix.py:352\u001b[39m, in \u001b[36m_HeatMapper.plot\u001b[39m\u001b[34m(self, ax, cax, kws)\u001b[39m\n\u001b[32m    350\u001b[39m \u001b[38;5;66;03m# Annotate the cells with the formatted values\u001b[39;00m\n\u001b[32m    351\u001b[39m \u001b[38;5;28;01mif\u001b[39;00m \u001b[38;5;28mself\u001b[39m.annot:\n\u001b[32m--> \u001b[39m\u001b[32m352\u001b[39m     \u001b[38;5;28;43mself\u001b[39;49m\u001b[43m.\u001b[49m\u001b[43m_annotate_heatmap\u001b[49m\u001b[43m(\u001b[49m\u001b[43max\u001b[49m\u001b[43m,\u001b[49m\u001b[43m \u001b[49m\u001b[43mmesh\u001b[49m\u001b[43m)\u001b[49m\n",
      "\u001b[36mFile \u001b[39m\u001b[32md:\\maching_learning\\maching_learning\\.venv\\Lib\\site-packages\\seaborn\\matrix.py:263\u001b[39m, in \u001b[36m_HeatMapper._annotate_heatmap\u001b[39m\u001b[34m(self, ax, mesh)\u001b[39m\n\u001b[32m    261\u001b[39m text_kwargs = \u001b[38;5;28mdict\u001b[39m(color=text_color, ha=\u001b[33m\"\u001b[39m\u001b[33mcenter\u001b[39m\u001b[33m\"\u001b[39m, va=\u001b[33m\"\u001b[39m\u001b[33mcenter\u001b[39m\u001b[33m\"\u001b[39m)\n\u001b[32m    262\u001b[39m text_kwargs.update(\u001b[38;5;28mself\u001b[39m.annot_kws)\n\u001b[32m--> \u001b[39m\u001b[32m263\u001b[39m \u001b[43max\u001b[49m\u001b[43m.\u001b[49m\u001b[43mtext\u001b[49m\u001b[43m(\u001b[49m\u001b[43mx\u001b[49m\u001b[43m,\u001b[49m\u001b[43m \u001b[49m\u001b[43my\u001b[49m\u001b[43m,\u001b[49m\u001b[43m \u001b[49m\u001b[43mannotation\u001b[49m\u001b[43m,\u001b[49m\u001b[43m \u001b[49m\u001b[43m*\u001b[49m\u001b[43m*\u001b[49m\u001b[43mtext_kwargs\u001b[49m\u001b[43m)\u001b[49m\n",
      "\u001b[36mFile \u001b[39m\u001b[32md:\\maching_learning\\maching_learning\\.venv\\Lib\\site-packages\\matplotlib\\axes\\_axes.py:713\u001b[39m, in \u001b[36mAxes.text\u001b[39m\u001b[34m(self, x, y, s, fontdict, **kwargs)\u001b[39m\n\u001b[32m    711\u001b[39m \u001b[38;5;28;01mif\u001b[39;00m t.get_clip_path() \u001b[38;5;129;01mis\u001b[39;00m \u001b[38;5;28;01mNone\u001b[39;00m:\n\u001b[32m    712\u001b[39m     t.set_clip_path(\u001b[38;5;28mself\u001b[39m.patch)\n\u001b[32m--> \u001b[39m\u001b[32m713\u001b[39m \u001b[38;5;28;43mself\u001b[39;49m\u001b[43m.\u001b[49m\u001b[43m_add_text\u001b[49m\u001b[43m(\u001b[49m\u001b[43mt\u001b[49m\u001b[43m)\u001b[49m\n\u001b[32m    714\u001b[39m \u001b[38;5;28;01mreturn\u001b[39;00m t\n",
      "\u001b[36mFile \u001b[39m\u001b[32md:\\maching_learning\\maching_learning\\.venv\\Lib\\site-packages\\matplotlib\\axes\\_base.py:2415\u001b[39m, in \u001b[36m_AxesBase._add_text\u001b[39m\u001b[34m(self, txt)\u001b[39m\n\u001b[32m   2413\u001b[39m _api.check_isinstance(mtext.Text, txt=txt)\n\u001b[32m   2414\u001b[39m \u001b[38;5;28mself\u001b[39m._set_artist_props(txt)\n\u001b[32m-> \u001b[39m\u001b[32m2415\u001b[39m \u001b[38;5;28;43mself\u001b[39;49m\u001b[43m.\u001b[49m\u001b[43m_children\u001b[49m\u001b[43m.\u001b[49m\u001b[43mappend\u001b[49m\u001b[43m(\u001b[49m\u001b[43mtxt\u001b[49m\u001b[43m)\u001b[49m\n\u001b[32m   2416\u001b[39m txt._remove_method = \u001b[38;5;28mself\u001b[39m._children.remove\n\u001b[32m   2417\u001b[39m \u001b[38;5;28mself\u001b[39m.stale = \u001b[38;5;28;01mTrue\u001b[39;00m\n",
      "\u001b[31mMemoryError\u001b[39m: "
     ]
    },
    {
     "name": "stdout",
     "output_type": "stream",
     "text": [
      "Error in callback <function _draw_all_if_interactive at 0x000001C6A9FC84A0> (for post_execute), with arguments args (),kwargs {}:\n"
     ]
    }
   ],
   "source": []
  }
 ],
 "metadata": {
  "kernelspec": {
   "display_name": ".venv",
   "language": "python",
   "name": "python3"
  },
  "language_info": {
   "codemirror_mode": {
    "name": "ipython",
    "version": 3
   },
   "file_extension": ".py",
   "mimetype": "text/x-python",
   "name": "python",
   "nbconvert_exporter": "python",
   "pygments_lexer": "ipython3",
   "version": "3.13.0"
  }
 },
 "nbformat": 4,
 "nbformat_minor": 2
}
